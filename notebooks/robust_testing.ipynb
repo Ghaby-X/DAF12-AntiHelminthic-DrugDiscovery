{
 "cells": [
  {
   "cell_type": "code",
   "execution_count": 1,
   "metadata": {},
   "outputs": [],
   "source": [
    "import os\n",
    "import pandas as pd\n",
    "import numpy as np\n",
    "import joblib\n",
    "import sys\n",
    "\n",
    "\n",
    "feature_path = os.path.join(os.getcwd(), '..', 'src', 'features')\n",
    "visualize_path = os.path.join(os.getcwd(), '..', 'src', 'visualization')\n",
    "sys.path.append(feature_path)\n",
    "sys.path.append(visualize_path)\n",
    "\n",
    "\n",
    "import build_features # type: ignore\n",
    "import visualize # type: ignore\n",
    "\n",
    "\n",
    "train_data_path = os.path.join('..', 'data', 'interim', 'train_data.pkl')\n",
    "eval_data_path = os.path.join('..', 'data', 'interim', 'eval_data.pkl')\n",
    "\n",
    "preprocessor = joblib.load('preprocessor')\n",
    "\n",
    "train_data = pd.read_pickle(train_data_path)\n",
    "eval_data_path = pd.read_pickle(eval_data_path)"
   ]
  },
  {
   "cell_type": "code",
   "execution_count": 24,
   "metadata": {},
   "outputs": [],
   "source": [
    "from imblearn.under_sampling import RandomUnderSampler\n",
    "\n",
    "train_X = train_data.drop('Activity', axis=1)\n",
    "train_y = train_data.Activity\n",
    "\n",
    "sampler = RandomUnderSampler(random_state=0)\n",
    "train_X, train_y = sampler.fit_resample(train_X, train_y)"
   ]
  },
  {
   "cell_type": "code",
   "execution_count": 28,
   "metadata": {},
   "outputs": [],
   "source": [
    "from sklearn.utils import shuffle\n",
    "\n",
    "\n",
    "X_train = preprocessor.transform(train_X)\n",
    "\n",
    "train_y1 = shuffle(train_y)\n",
    "train_y2 = shuffle(train_y)\n",
    "train_y3 = shuffle(train_y)"
   ]
  },
  {
   "cell_type": "markdown",
   "metadata": {},
   "source": [
    "## fitting on rfc model"
   ]
  },
  {
   "cell_type": "code",
   "execution_count": 29,
   "metadata": {},
   "outputs": [
    {
     "data": {
      "text/plain": [
       "{'accuracy_score': 0.48878048780487804,\n",
       " 'precision_score': 0.5969289827255279,\n",
       " 'recall_score': 0.4976,\n",
       " 'f1_score': 0.5427574171029669}"
      ]
     },
     "execution_count": 29,
     "metadata": {},
     "output_type": "execute_result"
    }
   ],
   "source": [
    "from sklearn.ensemble import RandomForestClassifier\n",
    "\n",
    "rfc1 = RandomForestClassifier().fit(X_train, train_y1)\n",
    "pred1 = rfc1.predict(preprocessor.transform(eval_data_path))\n",
    "visualize.score(eval_data_path.Activity, pred1)"
   ]
  },
  {
   "cell_type": "code",
   "execution_count": 33,
   "metadata": {},
   "outputs": [
    {
     "data": {
      "text/plain": [
       "{'accuracy_score': 0.4751219512195122,\n",
       " 'precision_score': 0.5900621118012422,\n",
       " 'recall_score': 0.456,\n",
       " 'f1_score': 0.5144404332129964}"
      ]
     },
     "execution_count": 33,
     "metadata": {},
     "output_type": "execute_result"
    }
   ],
   "source": [
    "from sklearn.ensemble import RandomForestClassifier\n",
    "\n",
    "rfc1 = RandomForestClassifier().fit(X_train, train_y2)\n",
    "pred1 = rfc1.predict(preprocessor.transform(eval_data_path))\n",
    "visualize.score(eval_data_path.Activity, pred1)"
   ]
  },
  {
   "cell_type": "code",
   "execution_count": 34,
   "metadata": {},
   "outputs": [
    {
     "data": {
      "text/plain": [
       "{'accuracy_score': 0.535609756097561,\n",
       " 'precision_score': 0.6548856548856549,\n",
       " 'recall_score': 0.504,\n",
       " 'f1_score': 0.569620253164557}"
      ]
     },
     "execution_count": 34,
     "metadata": {},
     "output_type": "execute_result"
    }
   ],
   "source": [
    "from sklearn.ensemble import RandomForestClassifier\n",
    "\n",
    "rfc1 = RandomForestClassifier().fit(X_train, train_y3)\n",
    "pred1 = rfc1.predict(preprocessor.transform(eval_data_path))\n",
    "visualize.score(eval_data_path.Activity, pred1)"
   ]
  },
  {
   "cell_type": "code",
   "execution_count": null,
   "metadata": {},
   "outputs": [],
   "source": []
  }
 ],
 "metadata": {
  "kernelspec": {
   "display_name": "venv",
   "language": "python",
   "name": "python3"
  },
  "language_info": {
   "codemirror_mode": {
    "name": "ipython",
    "version": 3
   },
   "file_extension": ".py",
   "mimetype": "text/x-python",
   "name": "python",
   "nbconvert_exporter": "python",
   "pygments_lexer": "ipython3",
   "version": "3.12.3"
  }
 },
 "nbformat": 4,
 "nbformat_minor": 2
}
