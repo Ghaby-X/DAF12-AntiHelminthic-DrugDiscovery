{
 "cells": [
  {
   "cell_type": "code",
   "execution_count": 1,
   "metadata": {},
   "outputs": [
    {
     "data": {
      "text/html": [
       "<div>\n",
       "<style scoped>\n",
       "    .dataframe tbody tr th:only-of-type {\n",
       "        vertical-align: middle;\n",
       "    }\n",
       "\n",
       "    .dataframe tbody tr th {\n",
       "        vertical-align: top;\n",
       "    }\n",
       "\n",
       "    .dataframe thead th {\n",
       "        text-align: right;\n",
       "    }\n",
       "</style>\n",
       "<table border=\"1\" class=\"dataframe\">\n",
       "  <thead>\n",
       "    <tr style=\"text-align: right;\">\n",
       "      <th></th>\n",
       "      <th>SMILES</th>\n",
       "      <th>ACTIVITY</th>\n",
       "      <th>ACTIVITY_SCORE</th>\n",
       "      <th>ACTIVATION_AT_6.8uM</th>\n",
       "    </tr>\n",
       "    <tr>\n",
       "      <th>PUBCHEM_RESULT_TAG</th>\n",
       "      <th></th>\n",
       "      <th></th>\n",
       "      <th></th>\n",
       "      <th></th>\n",
       "    </tr>\n",
       "  </thead>\n",
       "  <tbody>\n",
       "    <tr>\n",
       "      <th>1</th>\n",
       "      <td>C1=CC=C(C(=C1)NC(=O)C2=CC=C(C=C2)NS(=O)(=O)C3=...</td>\n",
       "      <td>1</td>\n",
       "      <td>100.0</td>\n",
       "      <td>89.39</td>\n",
       "    </tr>\n",
       "    <tr>\n",
       "      <th>2</th>\n",
       "      <td>C1=CC=C(C(=C1)N)NC(=O)C2=CC=C(C=C2)N</td>\n",
       "      <td>1</td>\n",
       "      <td>95.0</td>\n",
       "      <td>85.43</td>\n",
       "    </tr>\n",
       "    <tr>\n",
       "      <th>3</th>\n",
       "      <td>C1=CC=C(C=C1)C(=O)C2=CC=C(C=C2)C(=O)NC3=C(C=CC...</td>\n",
       "      <td>1</td>\n",
       "      <td>94.0</td>\n",
       "      <td>84.24</td>\n",
       "    </tr>\n",
       "    <tr>\n",
       "      <th>4</th>\n",
       "      <td>C1=CC=C(C=C1)NS(=O)(=O)C2=CC=C(C=C2)C(=O)NC3=C...</td>\n",
       "      <td>1</td>\n",
       "      <td>90.0</td>\n",
       "      <td>80.91</td>\n",
       "    </tr>\n",
       "    <tr>\n",
       "      <th>5</th>\n",
       "      <td>C1CC1C(=O)NC2=CC=C(C=C2)C(=O)NC3=CC=CC=C3O</td>\n",
       "      <td>1</td>\n",
       "      <td>77.0</td>\n",
       "      <td>68.96</td>\n",
       "    </tr>\n",
       "  </tbody>\n",
       "</table>\n",
       "</div>"
      ],
      "text/plain": [
       "                                                               SMILES  \\\n",
       "PUBCHEM_RESULT_TAG                                                      \n",
       "1                   C1=CC=C(C(=C1)NC(=O)C2=CC=C(C=C2)NS(=O)(=O)C3=...   \n",
       "2                                C1=CC=C(C(=C1)N)NC(=O)C2=CC=C(C=C2)N   \n",
       "3                   C1=CC=C(C=C1)C(=O)C2=CC=C(C=C2)C(=O)NC3=C(C=CC...   \n",
       "4                   C1=CC=C(C=C1)NS(=O)(=O)C2=CC=C(C=C2)C(=O)NC3=C...   \n",
       "5                          C1CC1C(=O)NC2=CC=C(C=C2)C(=O)NC3=CC=CC=C3O   \n",
       "\n",
       "                    ACTIVITY  ACTIVITY_SCORE ACTIVATION_AT_6.8uM  \n",
       "PUBCHEM_RESULT_TAG                                                \n",
       "1                          1           100.0               89.39  \n",
       "2                          1            95.0               85.43  \n",
       "3                          1            94.0               84.24  \n",
       "4                          1            90.0               80.91  \n",
       "5                          1            77.0               68.96  "
      ]
     },
     "execution_count": 1,
     "metadata": {},
     "output_type": "execute_result"
    }
   ],
   "source": [
    "import os\n",
    "import pandas as pd\n",
    "import numpy as np\n",
    "import joblib\n",
    "import sys\n",
    "\n",
    "\n",
    "feature_path = os.path.join(os.getcwd(), '..', 'src', 'features')\n",
    "visualize_path = os.path.join(os.getcwd(), '..', 'src', 'visualization')\n",
    "sys.path.append(feature_path)\n",
    "sys.path.append(visualize_path)\n",
    "\n",
    "\n",
    "import build_features # type: ignore\n",
    "import visualize # type: ignore\n",
    "\n",
    "\n",
    "data_path = os.path.join('..', 'data', 'interim', '01_H_Glycine_processed.pkl')\n",
    "\n",
    "preprocessor = joblib.load('preprocessor')\n",
    "df = pd.read_pickle(data_path)\n",
    "df.head()"
   ]
  },
  {
   "cell_type": "code",
   "execution_count": 2,
   "metadata": {},
   "outputs": [],
   "source": [
    "train_smiles = pd.read_pickle(os.path.join('..', 'data', 'interim', '01_H_Contortus_processed.pkl')).SMILES"
   ]
  },
  {
   "cell_type": "code",
   "execution_count": 3,
   "metadata": {},
   "outputs": [],
   "source": [
    "df = df[~df['SMILES'].isin(train_smiles)]"
   ]
  },
  {
   "cell_type": "code",
   "execution_count": 4,
   "metadata": {},
   "outputs": [
    {
     "name": "stdout",
     "output_type": "stream",
     "text": [
      "d:\\Users\\Gabriel Anyaele\\Desktop\\daf12-antihelminthic-drugdiscovery\\venv\\Lib\\site-packages\\numpy\\core\\fromnumeric.py:88: RuntimeWarning: overflow encountered in reduce\n",
      "  return ufunc.reduce(obj, axis, dtype, out, **passkwargs)\n"
     ]
    },
    {
     "name": "stderr",
     "output_type": "stream",
     "text": [
      "d:\\Users\\Gabriel Anyaele\\Desktop\\daf12-antihelminthic-drugdiscovery\\notebooks\\..\\src\\features\\build_features.py:77: FutureWarning: DataFrame.applymap has been deprecated. Use DataFrame.map instead.\n",
      "  return df_mordred.applymap(float_converter)\n"
     ]
    },
    {
     "data": {
      "text/html": [
       "<div>\n",
       "<style scoped>\n",
       "    .dataframe tbody tr th:only-of-type {\n",
       "        vertical-align: middle;\n",
       "    }\n",
       "\n",
       "    .dataframe tbody tr th {\n",
       "        vertical-align: top;\n",
       "    }\n",
       "\n",
       "    .dataframe thead th {\n",
       "        text-align: right;\n",
       "    }\n",
       "</style>\n",
       "<table border=\"1\" class=\"dataframe\">\n",
       "  <thead>\n",
       "    <tr style=\"text-align: right;\">\n",
       "      <th></th>\n",
       "      <th>ABC</th>\n",
       "      <th>ABCGG</th>\n",
       "      <th>nAcid</th>\n",
       "      <th>nBase</th>\n",
       "      <th>SpAbs_A</th>\n",
       "      <th>SpMax_A</th>\n",
       "      <th>SpDiam_A</th>\n",
       "      <th>SpAD_A</th>\n",
       "      <th>SpMAD_A</th>\n",
       "      <th>LogEE_A</th>\n",
       "      <th>...</th>\n",
       "      <th>TSRW10</th>\n",
       "      <th>MW</th>\n",
       "      <th>AMW</th>\n",
       "      <th>WPath</th>\n",
       "      <th>WPol</th>\n",
       "      <th>Zagreb1</th>\n",
       "      <th>Zagreb2</th>\n",
       "      <th>mZagreb1</th>\n",
       "      <th>mZagreb2</th>\n",
       "      <th>ACTIVITY</th>\n",
       "    </tr>\n",
       "    <tr>\n",
       "      <th>PUBCHEM_RESULT_TAG</th>\n",
       "      <th></th>\n",
       "      <th></th>\n",
       "      <th></th>\n",
       "      <th></th>\n",
       "      <th></th>\n",
       "      <th></th>\n",
       "      <th></th>\n",
       "      <th></th>\n",
       "      <th></th>\n",
       "      <th></th>\n",
       "      <th></th>\n",
       "      <th></th>\n",
       "      <th></th>\n",
       "      <th></th>\n",
       "      <th></th>\n",
       "      <th></th>\n",
       "      <th></th>\n",
       "      <th></th>\n",
       "      <th></th>\n",
       "      <th></th>\n",
       "      <th></th>\n",
       "    </tr>\n",
       "  </thead>\n",
       "  <tbody>\n",
       "    <tr>\n",
       "      <th>6</th>\n",
       "      <td>NaN</td>\n",
       "      <td>NaN</td>\n",
       "      <td>0</td>\n",
       "      <td>0</td>\n",
       "      <td>29.235755</td>\n",
       "      <td>2.363527</td>\n",
       "      <td>4.598328</td>\n",
       "      <td>29.235755</td>\n",
       "      <td>1.328898</td>\n",
       "      <td>4.015802</td>\n",
       "      <td>...</td>\n",
       "      <td>70.787850</td>\n",
       "      <td>296.127326</td>\n",
       "      <td>7.792824</td>\n",
       "      <td>1290</td>\n",
       "      <td>26</td>\n",
       "      <td>110.0</td>\n",
       "      <td>125.0</td>\n",
       "      <td>5.555556</td>\n",
       "      <td>4.972222</td>\n",
       "      <td>1</td>\n",
       "    </tr>\n",
       "    <tr>\n",
       "      <th>8</th>\n",
       "      <td>NaN</td>\n",
       "      <td>NaN</td>\n",
       "      <td>0</td>\n",
       "      <td>0</td>\n",
       "      <td>27.687761</td>\n",
       "      <td>2.370851</td>\n",
       "      <td>4.566530</td>\n",
       "      <td>27.687761</td>\n",
       "      <td>1.318465</td>\n",
       "      <td>3.973837</td>\n",
       "      <td>...</td>\n",
       "      <td>69.658190</td>\n",
       "      <td>282.100442</td>\n",
       "      <td>8.060013</td>\n",
       "      <td>1104</td>\n",
       "      <td>25</td>\n",
       "      <td>106.0</td>\n",
       "      <td>121.0</td>\n",
       "      <td>5.305556</td>\n",
       "      <td>4.722222</td>\n",
       "      <td>1</td>\n",
       "    </tr>\n",
       "    <tr>\n",
       "      <th>10</th>\n",
       "      <td>NaN</td>\n",
       "      <td>NaN</td>\n",
       "      <td>0</td>\n",
       "      <td>0</td>\n",
       "      <td>20.903705</td>\n",
       "      <td>2.300925</td>\n",
       "      <td>4.601850</td>\n",
       "      <td>20.903705</td>\n",
       "      <td>1.306482</td>\n",
       "      <td>3.686078</td>\n",
       "      <td>...</td>\n",
       "      <td>47.894655</td>\n",
       "      <td>212.094963</td>\n",
       "      <td>7.574820</td>\n",
       "      <td>460</td>\n",
       "      <td>21</td>\n",
       "      <td>78.0</td>\n",
       "      <td>88.0</td>\n",
       "      <td>4.944444</td>\n",
       "      <td>3.638889</td>\n",
       "      <td>1</td>\n",
       "    </tr>\n",
       "    <tr>\n",
       "      <th>11</th>\n",
       "      <td>NaN</td>\n",
       "      <td>NaN</td>\n",
       "      <td>0</td>\n",
       "      <td>0</td>\n",
       "      <td>26.705830</td>\n",
       "      <td>2.366309</td>\n",
       "      <td>4.602455</td>\n",
       "      <td>26.705830</td>\n",
       "      <td>1.335291</td>\n",
       "      <td>3.930032</td>\n",
       "      <td>...</td>\n",
       "      <td>68.498800</td>\n",
       "      <td>272.116092</td>\n",
       "      <td>7.558780</td>\n",
       "      <td>923</td>\n",
       "      <td>24</td>\n",
       "      <td>102.0</td>\n",
       "      <td>117.0</td>\n",
       "      <td>5.055556</td>\n",
       "      <td>4.472222</td>\n",
       "      <td>1</td>\n",
       "    </tr>\n",
       "    <tr>\n",
       "      <th>12</th>\n",
       "      <td>NaN</td>\n",
       "      <td>NaN</td>\n",
       "      <td>0</td>\n",
       "      <td>1</td>\n",
       "      <td>29.167842</td>\n",
       "      <td>2.370361</td>\n",
       "      <td>4.556479</td>\n",
       "      <td>29.167842</td>\n",
       "      <td>1.325811</td>\n",
       "      <td>4.015803</td>\n",
       "      <td>...</td>\n",
       "      <td>70.800745</td>\n",
       "      <td>321.114712</td>\n",
       "      <td>7.832066</td>\n",
       "      <td>1301</td>\n",
       "      <td>26</td>\n",
       "      <td>110.0</td>\n",
       "      <td>125.0</td>\n",
       "      <td>5.555556</td>\n",
       "      <td>4.972222</td>\n",
       "      <td>1</td>\n",
       "    </tr>\n",
       "  </tbody>\n",
       "</table>\n",
       "<p>5 rows × 1614 columns</p>\n",
       "</div>"
      ],
      "text/plain": [
       "                    ABC  ABCGG  nAcid  nBase    SpAbs_A   SpMax_A  SpDiam_A  \\\n",
       "PUBCHEM_RESULT_TAG                                                            \n",
       "6                   NaN    NaN      0      0  29.235755  2.363527  4.598328   \n",
       "8                   NaN    NaN      0      0  27.687761  2.370851  4.566530   \n",
       "10                  NaN    NaN      0      0  20.903705  2.300925  4.601850   \n",
       "11                  NaN    NaN      0      0  26.705830  2.366309  4.602455   \n",
       "12                  NaN    NaN      0      1  29.167842  2.370361  4.556479   \n",
       "\n",
       "                       SpAD_A   SpMAD_A   LogEE_A  ...     TSRW10          MW  \\\n",
       "PUBCHEM_RESULT_TAG                                 ...                          \n",
       "6                   29.235755  1.328898  4.015802  ...  70.787850  296.127326   \n",
       "8                   27.687761  1.318465  3.973837  ...  69.658190  282.100442   \n",
       "10                  20.903705  1.306482  3.686078  ...  47.894655  212.094963   \n",
       "11                  26.705830  1.335291  3.930032  ...  68.498800  272.116092   \n",
       "12                  29.167842  1.325811  4.015803  ...  70.800745  321.114712   \n",
       "\n",
       "                         AMW  WPath  WPol  Zagreb1  Zagreb2  mZagreb1  \\\n",
       "PUBCHEM_RESULT_TAG                                                      \n",
       "6                   7.792824   1290    26    110.0    125.0  5.555556   \n",
       "8                   8.060013   1104    25    106.0    121.0  5.305556   \n",
       "10                  7.574820    460    21     78.0     88.0  4.944444   \n",
       "11                  7.558780    923    24    102.0    117.0  5.055556   \n",
       "12                  7.832066   1301    26    110.0    125.0  5.555556   \n",
       "\n",
       "                    mZagreb2  ACTIVITY  \n",
       "PUBCHEM_RESULT_TAG                      \n",
       "6                   4.972222         1  \n",
       "8                   4.722222         1  \n",
       "10                  3.638889         1  \n",
       "11                  4.472222         1  \n",
       "12                  4.972222         1  \n",
       "\n",
       "[5 rows x 1614 columns]"
      ]
     },
     "execution_count": 4,
     "metadata": {},
     "output_type": "execute_result"
    }
   ],
   "source": [
    "smiles_list = df['SMILES'].to_list()\n",
    "mordred_df = build_features.mordred_descriptors(smiles_list)\n",
    "mordred_df.index = df.index\n",
    "mordred_df['ACTIVITY'] = df['ACTIVITY']\n",
    "\n",
    "\n",
    "empty_cols = mordred_df.columns[mordred_df.isna().sum() == 3416]\n",
    "mordred_df.drop(columns=empty_cols, inplace=True)\n",
    "mordred_df.head()"
   ]
  },
  {
   "cell_type": "markdown",
   "metadata": {},
   "source": [
    "## loading models"
   ]
  },
  {
   "cell_type": "code",
   "execution_count": 8,
   "metadata": {},
   "outputs": [],
   "source": [
    "import pickle\n",
    "\n",
    "with open(os.path.join('..', 'models', 'rfc_model.pkl'), 'rb') as file: \n",
    "    rfc_model = pickle.load(file) \n",
    "\n",
    "\n",
    "with open(os.path.join('..', 'models', 'svc_model.pkl'), 'rb') as file: \n",
    "    svc_model = pickle.load(file) \n",
    "    \n",
    "    \n",
    "with open(os.path.join('..', 'models', 'knn_model.pkl'), 'rb') as file: \n",
    "    knn_model = pickle.load(file) \n",
    "    \n",
    "    \n",
    "with open(os.path.join('..', 'models', 'lr_model.pkl'), 'rb') as file: \n",
    "    lr_model = pickle.load(file) \n"
   ]
  },
  {
   "cell_type": "code",
   "execution_count": 6,
   "metadata": {},
   "outputs": [],
   "source": [
    "from sklearn.metrics import roc_auc_score\n",
    "\n",
    "validation_data = mordred_df\n",
    "validation_label = mordred_df.ACTIVITY"
   ]
  },
  {
   "cell_type": "markdown",
   "metadata": {},
   "source": [
    "## Validation"
   ]
  },
  {
   "cell_type": "code",
   "execution_count": 9,
   "metadata": {},
   "outputs": [
    {
     "name": "stdout",
     "output_type": "stream",
     "text": [
      "roc_auc_score:  0.678\n"
     ]
    },
    {
     "data": {
      "text/plain": [
       "{'accuracy_score': 0.665629168519342,\n",
       " 'precision_score': 0.8240343347639485,\n",
       " 'recall_score': 0.6948130277442702,\n",
       " 'f1_score': 0.7539267015706806}"
      ]
     },
     "execution_count": 9,
     "metadata": {},
     "output_type": "execute_result"
    }
   ],
   "source": [
    "rfc_pred = rfc_model.predict(validation_data)\n",
    "\n",
    "print('roc_auc_score: ', round(roc_auc_score(validation_label, rfc_model.predict_proba(validation_data)[:, 1]), 3))\n",
    "visualize.score(validation_label, rfc_pred)"
   ]
  },
  {
   "cell_type": "code",
   "execution_count": 10,
   "metadata": {},
   "outputs": [
    {
     "name": "stdout",
     "output_type": "stream",
     "text": [
      "roc_auc_score:  0.685\n"
     ]
    },
    {
     "data": {
      "text/plain": [
       "{'accuracy_score': 0.6860827034237439,\n",
       " 'precision_score': 0.8160690571049137,\n",
       " 'recall_score': 0.741254523522316,\n",
       " 'f1_score': 0.7768647281921618}"
      ]
     },
     "execution_count": 10,
     "metadata": {},
     "output_type": "execute_result"
    }
   ],
   "source": [
    "svc_pred = svc_model.predict(validation_data)\n",
    "\n",
    "print('roc_auc_score: ', round(roc_auc_score(validation_label, svc_model.predict_proba(validation_data)[:, 1]), 3))\n",
    "visualize.score(validation_label, svc_pred)"
   ]
  },
  {
   "cell_type": "code",
   "execution_count": 11,
   "metadata": {},
   "outputs": [
    {
     "name": "stdout",
     "output_type": "stream",
     "text": [
      "roc_auc_score:  0.631\n"
     ]
    },
    {
     "data": {
      "text/plain": [
       "{'accuracy_score': 0.609159626500667,\n",
       " 'precision_score': 0.8003084040092521,\n",
       " 'recall_score': 0.6260554885404102,\n",
       " 'f1_score': 0.7025380710659899}"
      ]
     },
     "execution_count": 11,
     "metadata": {},
     "output_type": "execute_result"
    }
   ],
   "source": [
    "lr_pred = lr_model.predict(validation_data)\n",
    "\n",
    "print('roc_auc_score: ', round(roc_auc_score(validation_label, lr_model.predict_proba(validation_data)[:, 1]), 3))\n",
    "visualize.score(validation_label, lr_pred)"
   ]
  },
  {
   "cell_type": "code",
   "execution_count": 12,
   "metadata": {},
   "outputs": [
    {
     "name": "stdout",
     "output_type": "stream",
     "text": [
      "roc_auc_score:  0.605\n"
     ]
    },
    {
     "data": {
      "text/plain": [
       "{'accuracy_score': 0.6705202312138728,\n",
       " 'precision_score': 0.7740585774058577,\n",
       " 'recall_score': 0.7810615199034981,\n",
       " 'f1_score': 0.7775442809966977}"
      ]
     },
     "execution_count": 12,
     "metadata": {},
     "output_type": "execute_result"
    }
   ],
   "source": [
    "knn_pred = knn_model.predict(validation_data)\n",
    "\n",
    "print('roc_auc_score: ', round(roc_auc_score(validation_label, knn_model.predict_proba(validation_data)[:, 1]), 3))\n",
    "visualize.score(validation_label, knn_pred)"
   ]
  }
 ],
 "metadata": {
  "kernelspec": {
   "display_name": "venv",
   "language": "python",
   "name": "python3"
  },
  "language_info": {
   "codemirror_mode": {
    "name": "ipython",
    "version": 3
   },
   "file_extension": ".py",
   "mimetype": "text/x-python",
   "name": "python",
   "nbconvert_exporter": "python",
   "pygments_lexer": "ipython3",
   "version": "3.12.3"
  }
 },
 "nbformat": 4,
 "nbformat_minor": 2
}
